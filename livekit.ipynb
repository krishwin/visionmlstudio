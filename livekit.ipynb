{
 "cells": [
  {
   "cell_type": "code",
   "execution_count": 1,
   "id": "e952cbbb",
   "metadata": {},
   "outputs": [
    {
     "data": {
      "text/plain": [
       "True"
      ]
     },
     "execution_count": 1,
     "metadata": {},
     "output_type": "execute_result"
    }
   ],
   "source": [
    "import dotenv\n",
    "import os\n",
    "\n",
    "\n",
    "dotenv.load_dotenv()"
   ]
  },
  {
   "cell_type": "code",
   "execution_count": 2,
   "id": "38448bc8",
   "metadata": {},
   "outputs": [],
   "source": [
    "import asyncio\n",
    "import logging\n",
    "\n",
    "from dotenv import load_dotenv\n",
    "\n",
    "from livekit import rtc\n",
    "from livekit.agents import AutoSubscribe, JobContext, WorkerOptions, cli\n",
    "\n",
    "load_dotenv()\n",
    "\n",
    "logger = logging.getLogger(\"my-worker\")\n",
    "logger.setLevel(logging.INFO)\n"
   ]
  },
  {
   "cell_type": "code",
   "execution_count": 25,
   "id": "7613186c",
   "metadata": {},
   "outputs": [
    {
     "name": "stdout",
     "output_type": "stream",
     "text": [
      "2025-08-04 23:53:16,946 - \u001b[36mDEBUG\u001b[0m asyncio - Using selector: EpollSelector \u001b[90m\u001b[0m\n",
      "2025-08-04 23:53:16,949 - \u001b[35mDEV \u001b[0m livekit.agents - Watching /workspaces/visionmlstudio/livekit \u001b[90m\u001b[0m\n",
      "2025-08-04 23:53:19,883 - \u001b[36mDEBUG\u001b[0m asyncio - Using selector: EpollSelector \u001b[90m\u001b[0m\n",
      "2025-08-04 23:53:19,892 - \u001b[32mINFO\u001b[0m livekit.agents - starting worker \u001b[90m{\"version\": \"1.1.6\", \"rtc-version\": \"1.0.11\"}\u001b[0m\n",
      "2025-08-04 23:53:19,893 - \u001b[32mINFO\u001b[0m livekit.agents - preloading plugins \u001b[90m{\"packages\": [\"livekit.plugins.google\"]}\u001b[0m\n",
      "2025-08-04 23:53:19,897 - \u001b[32mINFO\u001b[0m livekit.agents - \u001b[1msee tracing information at http://localhost:39463/debug\u001b[0m \u001b[90m\u001b[0m\n",
      "2025-08-04 23:53:20,130 - \u001b[32mINFO\u001b[0m livekit.agents - registered worker \u001b[90m{\"id\": \"AW_BYjAci5BVAjE\", \"url\": \"wss://fitcntr-25mn1j0x.livekit.cloud\", \"region\": \"US West B\", \"protocol\": 16}\u001b[0m\n",
      "2025-08-04 23:53:24,580 - \u001b[32mINFO\u001b[0m livekit.agents - received job request \u001b[90m{\"job_id\": \"AJ_kdDRqFpYDYJt\", \"dispatch_id\": \"\", \"room_name\": \"voice_assistant_room_735\", \"agent_name\": \"\", \"resuming\": false}\u001b[0m\n",
      "2025-08-04 23:53:28,324 - \u001b[32mINFO\u001b[0m livekit.agents - initializing process \u001b[90m{\"pid\": 63831}\u001b[0m\n",
      "2025-08-04 23:53:28,537 - \u001b[32mINFO\u001b[0m livekit.agents - process initialized \u001b[90m{\"pid\": 63831, \"elapsed_time\": 0.21}\u001b[0m\n",
      "2025-08-04 23:53:28,537 - \u001b[36mDEBUG\u001b[0m asyncio - Using selector: EpollSelector \u001b[90m{\"pid\": 63831, \"job_id\": \"AJ_kdDRqFpYDYJt\"}\u001b[0m\n",
      "2025-08-04 23:53:28,553 - \u001b[32mINFO\u001b[0m my-worker - Connecting to room \u001b[90m{\"pid\": 63831, \"job_id\": \"AJ_kdDRqFpYDYJt\"}\u001b[0m\n",
      "2025-08-04 23:53:29,393 - \u001b[32mINFO\u001b[0m google_genai.models - AFC is enabled with max remote calls: 10. \u001b[90m{\"pid\": 63831, \"job_id\": \"AJ_kdDRqFpYDYJt\"}\u001b[0m\n",
      "2025-08-04 23:53:30,027 - \u001b[32mINFO\u001b[0m google_genai.models - AFC remote call 1 is done. \u001b[90m{\"pid\": 63831, \"job_id\": \"AJ_kdDRqFpYDYJt\"}\u001b[0m\n",
      "2025-08-04 23:53:30,146 - \u001b[36mDEBUG\u001b[0m grpc._cython.cygrpc - Using AsyncIOEngine.POLLER as I/O engine \u001b[90m{\"pid\": 63831, \"job_id\": \"AJ_kdDRqFpYDYJt\"}\u001b[0m\n",
      "2025-08-04 23:53:33,926 - \u001b[32mINFO\u001b[0m livekit.agents - closing agent session due to participant disconnect (disable via `RoomInputOptions.close_on_disconnect=False`) \u001b[90m{\"participant\": \"voice_assistant_user_9768\", \"reason\": \"CLIENT_INITIATED\", \"pid\": 63831, \"job_id\": \"AJ_kdDRqFpYDYJt\"}\u001b[0m\n",
      "2025-08-04 23:53:34,117 - \u001b[36mDEBUG\u001b[0m livekit.agents - session closed \u001b[90m{\"reason\": \"participant_disconnected\", \"error\": null, \"pid\": 63831, \"job_id\": \"AJ_kdDRqFpYDYJt\"}\u001b[0m\n",
      "2025-08-04 23:53:34,233 - \u001b[32mINFO\u001b[0m livekit.agents - process exiting \u001b[90m{\"reason\": \"\", \"pid\": 63831, \"job_id\": \"AJ_kdDRqFpYDYJt\"}\u001b[0m\n",
      "2025-08-04 23:53:34,230 - \u001b[36mDEBUG\u001b[0m livekit.agents - shutting down job task \u001b[90m{\"reason\": \"\", \"user_initiated\": false, \"pid\": 63831, \"job_id\": \"AJ_kdDRqFpYDYJt\"}\u001b[0m\n",
      "2025-08-04 23:53:34,254 - \u001b[36mDEBUG\u001b[0m livekit.agents - http_session(): closing the httpclient ctx \u001b[90m{\"pid\": 63831, \"job_id\": \"AJ_kdDRqFpYDYJt\"}\u001b[0m\n",
      "2025-08-04 23:53:34,254 - \u001b[36mDEBUG\u001b[0m livekit.agents - http_session(): creating a new httpclient ctx \u001b[90m{\"pid\": 63831, \"job_id\": \"AJ_kdDRqFpYDYJt\"}\u001b[0m\n",
      "2025-08-04 23:53:36,122 - \u001b[32mINFO\u001b[0m livekit.agents - received job request \u001b[90m{\"job_id\": \"AJ_hS5nWcZ5GWbF\", \"dispatch_id\": \"\", \"room_name\": \"voice_assistant_room_2846\", \"agent_name\": \"\", \"resuming\": false}\u001b[0m\n",
      "2025-08-04 23:53:36,207 - \u001b[32mINFO\u001b[0m livekit.agents - initializing process \u001b[90m{\"pid\": 63947}\u001b[0m\n",
      "2025-08-04 23:53:36,410 - \u001b[32mINFO\u001b[0m livekit.agents - process initialized \u001b[90m{\"pid\": 63947, \"elapsed_time\": 0.2}\u001b[0m\n",
      "2025-08-04 23:53:36,410 - \u001b[36mDEBUG\u001b[0m asyncio - Using selector: EpollSelector \u001b[90m{\"pid\": 63947, \"job_id\": \"AJ_hS5nWcZ5GWbF\"}\u001b[0m\n",
      "2025-08-04 23:53:36,430 - \u001b[32mINFO\u001b[0m my-worker - Connecting to room \u001b[90m{\"pid\": 63947, \"job_id\": \"AJ_hS5nWcZ5GWbF\"}\u001b[0m\n",
      "2025-08-04 23:53:38,300 - \u001b[32mINFO\u001b[0m google_genai.models - AFC is enabled with max remote calls: 10. \u001b[90m{\"pid\": 63947, \"job_id\": \"AJ_hS5nWcZ5GWbF\"}\u001b[0m\n",
      "2025-08-04 23:53:38,907 - \u001b[32mINFO\u001b[0m google_genai.models - AFC remote call 1 is done. \u001b[90m{\"pid\": 63947, \"job_id\": \"AJ_hS5nWcZ5GWbF\"}\u001b[0m\n",
      "2025-08-04 23:53:39,046 - \u001b[36mDEBUG\u001b[0m grpc._cython.cygrpc - Using AsyncIOEngine.POLLER as I/O engine \u001b[90m{\"pid\": 63947, \"job_id\": \"AJ_hS5nWcZ5GWbF\"}\u001b[0m\n",
      "Sending batch of shape (32, 224, 224, 3) to server\n",
      "2025-08-04 23:54:21,431 - \u001b[33mWARNING\u001b[0m livekit.agents - process memory usage is high \u001b[90m{\"memory_usage_mb\": 567.53515625, \"memory_warn_mb\": 500, \"memory_limit_mb\": 0, \"pid\": 63947, \"job_id\": \"AJ_hS5nWcZ5GWbF\"}\u001b[0m\n",
      "2025-08-04 23:54:26,434 - \u001b[33mWARNING\u001b[0m livekit.agents - process memory usage is high \u001b[90m{\"memory_usage_mb\": 742.16015625, \"memory_warn_mb\": 500, \"memory_limit_mb\": 0, \"pid\": 63947, \"job_id\": \"AJ_hS5nWcZ5GWbF\"}\u001b[0m\n",
      "2025-08-04 23:54:31,438 - \u001b[33mWARNING\u001b[0m livekit.agents - process memory usage is high \u001b[90m{\"memory_usage_mb\": 930.16015625, \"memory_warn_mb\": 500, \"memory_limit_mb\": 0, \"pid\": 63947, \"job_id\": \"AJ_hS5nWcZ5GWbF\"}\u001b[0m\n",
      "2025-08-04 23:54:36,440 - \u001b[33mWARNING\u001b[0m livekit.agents - process memory usage is high \u001b[90m{\"memory_usage_mb\": 1126.66015625, \"memory_warn_mb\": 500, \"memory_limit_mb\": 0, \"pid\": 63947, \"job_id\": \"AJ_hS5nWcZ5GWbF\"}\u001b[0m\n",
      "Action detection result: {'status': 'ok', 'counter': 0, 'result': {'action': 'class_3'}}\n",
      "Result: {'status': 'ok', 'counter': 0, 'result': {'action': 'class_3'}}\n",
      "2025-08-04 23:54:41,445 - \u001b[33mWARNING\u001b[0m livekit.agents - process memory usage is high \u001b[90m{\"memory_usage_mb\": 1310.12109375, \"memory_warn_mb\": 500, \"memory_limit_mb\": 0, \"pid\": 63947, \"job_id\": \"AJ_hS5nWcZ5GWbF\"}\u001b[0m\n",
      "Sending batch of shape (32, 224, 224, 3) to server\n",
      "2025-08-04 23:54:43,129 - \u001b[33mWARNING\u001b[0m livekit.agents - Running <Task pending name='Task-158' coro=<VideoProcessing.do_something() running at /workspaces/visionmlstudio/livekit/livekit_visionagent.py:131> wait_for=<Future pending cb=[Task.task_wakeup()]>> took too long: 2.39 seconds \u001b[90m{\"pid\": 63947, \"job_id\": \"AJ_hS5nWcZ5GWbF\"}\u001b[0m\n",
      "2025-08-04 23:54:46,451 - \u001b[33mWARNING\u001b[0m livekit.agents - process memory usage is high \u001b[90m{\"memory_usage_mb\": 1509.4765625, \"memory_warn_mb\": 500, \"memory_limit_mb\": 0, \"pid\": 63947, \"job_id\": \"AJ_hS5nWcZ5GWbF\"}\u001b[0m\n",
      "2025-08-04 23:54:51,455 - \u001b[33mWARNING\u001b[0m livekit.agents - process memory usage is high \u001b[90m{\"memory_usage_mb\": 1679.6015625, \"memory_warn_mb\": 500, \"memory_limit_mb\": 0, \"pid\": 63947, \"job_id\": \"AJ_hS5nWcZ5GWbF\"}\u001b[0m\n",
      "2025-08-04 23:54:56,458 - \u001b[33mWARNING\u001b[0m livekit.agents - process memory usage is high \u001b[90m{\"memory_usage_mb\": 1848.4765625, \"memory_warn_mb\": 500, \"memory_limit_mb\": 0, \"pid\": 63947, \"job_id\": \"AJ_hS5nWcZ5GWbF\"}\u001b[0m\n",
      "2025-08-04 23:55:01,462 - \u001b[33mWARNING\u001b[0m livekit.agents - process memory usage is high \u001b[90m{\"memory_usage_mb\": 2013.2265625, \"memory_warn_mb\": 500, \"memory_limit_mb\": 0, \"pid\": 63947, \"job_id\": \"AJ_hS5nWcZ5GWbF\"}\u001b[0m\n",
      "2025-08-04 23:55:06,465 - \u001b[33mWARNING\u001b[0m livekit.agents - process memory usage is high \u001b[90m{\"memory_usage_mb\": 2192.6015625, \"memory_warn_mb\": 500, \"memory_limit_mb\": 0, \"pid\": 63947, \"job_id\": \"AJ_hS5nWcZ5GWbF\"}\u001b[0m\n",
      "Action detection result: {'status': 'ok', 'counter': 0, 'result': {'action': 'class_3'}}\n",
      "Result: {'status': 'ok', 'counter': 0, 'result': {'action': 'class_3'}}\n",
      "2025-08-04 23:55:11,467 - \u001b[33mWARNING\u001b[0m livekit.agents - process memory usage is high \u001b[90m{\"memory_usage_mb\": 2328.0625, \"memory_warn_mb\": 500, \"memory_limit_mb\": 0, \"pid\": 63947, \"job_id\": \"AJ_hS5nWcZ5GWbF\"}\u001b[0m\n",
      "Sending batch of shape (32, 224, 224, 3) to server\n",
      "2025-08-04 23:55:13,935 - \u001b[33mWARNING\u001b[0m livekit.agents - Running <Task pending name='Task-158' coro=<VideoProcessing.do_something() running at /workspaces/visionmlstudio/livekit/livekit_visionagent.py:131> wait_for=<Future pending cb=[Task.task_wakeup()]>> took too long: 3.56 seconds \u001b[90m{\"pid\": 63947, \"job_id\": \"AJ_hS5nWcZ5GWbF\"}\u001b[0m\n",
      "2025-08-04 23:55:16,471 - \u001b[33mWARNING\u001b[0m livekit.agents - process memory usage is high \u001b[90m{\"memory_usage_mb\": 2526.4140625, \"memory_warn_mb\": 500, \"memory_limit_mb\": 0, \"pid\": 63947, \"job_id\": \"AJ_hS5nWcZ5GWbF\"}\u001b[0m\n",
      "^C\n",
      "2025-08-04 23:55:19,957 - \u001b[32mINFO\u001b[0m livekit.agents - shutting down worker \u001b[90m{\"id\": \"AW_BYjAci5BVAjE\"}\u001b[0m\n",
      "2025-08-04 23:55:19,976 - \u001b[32mINFO\u001b[0m livekit.agents - process exiting \u001b[90m{\"reason\": \"\", \"pid\": 63947, \"job_id\": \"AJ_hS5nWcZ5GWbF\"}\u001b[0m\n",
      "2025-08-04 23:55:19,971 - \u001b[36mDEBUG\u001b[0m livekit.agents - shutting down job task \u001b[90m{\"reason\": \"\", \"user_initiated\": false, \"pid\": 63947, \"job_id\": \"AJ_hS5nWcZ5GWbF\"}\u001b[0m\n",
      "2025-08-04 23:55:20,127 - \u001b[36mDEBUG\u001b[0m livekit.agents - session closed \u001b[90m{\"reason\": \"job_shutdown\", \"error\": null, \"pid\": 63947, \"job_id\": \"AJ_hS5nWcZ5GWbF\"}\u001b[0m\n"
     ]
    }
   ],
   "source": [
    "!python livekit/livekit_visionagent.py dev"
   ]
  },
  {
   "cell_type": "code",
   "execution_count": 13,
   "id": "47ac75ec",
   "metadata": {},
   "outputs": [
    {
     "name": "stdout",
     "output_type": "stream",
     "text": [
      "Estimated FPS: 5.38\n"
     ]
    }
   ],
   "source": [
    "timestamps_ns = [\n",
    "    22295778000, 22295926000, 22296059000, 22296187000,\n",
    "    22296292000, 22296427000, 22296563000, 22296695000,\n",
    "    22296793000, 22296931000, 22297072000, 22297100000,\n",
    "    22297130000, 22297338000, 22297598000, 22297741000,\n",
    "    22297875000, 22298015000, 22298331000, 22298422000,\n",
    "    22298512000, 22298656000, 22298791000, 22298939000,\n",
    "    22299106000, 22299488000, 22299990000, 22300148000,\n",
    "    22300405000, 22300780000, 22301419000, 22301538000\n",
    "]\n",
    "\n",
    "# Convert to seconds\n",
    "timestamps_s = [ts / 1e6 for ts in timestamps_ns]\n",
    "\n",
    "# Compute time differences between frames\n",
    "frame_intervals = [t2 - t1 for t1, t2 in zip(timestamps_s[:-1], timestamps_s[1:])]\n",
    "\n",
    "# Average frame interval\n",
    "avg_interval = sum(frame_intervals) / len(frame_intervals)\n",
    "\n",
    "# FPS = 1 / average frame interval\n",
    "fps = 1 / avg_interval\n",
    "\n",
    "print(f\"Estimated FPS: {fps:.2f}\")\n"
   ]
  }
 ],
 "metadata": {
  "kernelspec": {
   "display_name": "Python 3 (ipykernel)",
   "language": "python",
   "name": "python3"
  },
  "language_info": {
   "codemirror_mode": {
    "name": "ipython",
    "version": 3
   },
   "file_extension": ".py",
   "mimetype": "text/x-python",
   "name": "python",
   "nbconvert_exporter": "python",
   "pygments_lexer": "ipython3",
   "version": "3.12.11"
  }
 },
 "nbformat": 4,
 "nbformat_minor": 5
}
