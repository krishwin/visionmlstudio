{
 "cells": [
  {
   "cell_type": "code",
   "execution_count": null,
   "metadata": {
    "_cell_guid": "b1076dfc-b9ad-4769-8c92-a6c4dae69d19",
    "_uuid": "8f2839f25d086af736a60e9eeb907d3b93b6e0e5",
    "execution": {
     "iopub.execute_input": "2025-06-11T03:55:19.083633Z",
     "iopub.status.busy": "2025-06-11T03:55:19.083298Z",
     "iopub.status.idle": "2025-06-11T03:55:21.101130Z",
     "shell.execute_reply": "2025-06-11T03:55:21.100317Z",
     "shell.execute_reply.started": "2025-06-11T03:55:19.083601Z"
    },
    "trusted": true
   },
   "outputs": [],
   "source": [
    "# This Python 3 environment comes with many helpful analytics libraries installed\n",
    "# It is defined by the kaggle/python Docker image: https://github.com/kaggle/docker-python\n",
    "# For example, here's several helpful packages to load\n",
    "\n",
    "import numpy as np # linear algebra\n",
    "import pandas as pd # data processing, CSV file I/O (e.g. pd.read_csv)\n",
    "\n",
    "# Input data files are available in the read-only \"../input/\" directory\n",
    "# For example, running this (by clicking run or pressing Shift+Enter) will list all files under the input directory\n",
    "\n",
    "##import os\n",
    "#for dirname, _, filenames in os.walk('/kaggle/input'):\n",
    "#    for filename in filenames:\n",
    "#        print(os.path.join(dirname, filename))\n",
    "\n",
    "# You can write up to 20GB to the current directory (/kaggle/working/) that gets preserved as output when you create a version using \"Save & Run All\" \n",
    "# You can also write temporary files to /kaggle/temp/, but they won't be saved outside of the current session"
   ]
  },
  {
   "cell_type": "code",
   "execution_count": null,
   "metadata": {
    "trusted": true
   },
   "outputs": [],
   "source": [
    "!pip install evaluate"
   ]
  },
  {
   "cell_type": "code",
   "execution_count": null,
   "metadata": {
    "execution": {
     "iopub.execute_input": "2025-06-11T03:55:26.603710Z",
     "iopub.status.busy": "2025-06-11T03:55:26.603070Z",
     "iopub.status.idle": "2025-06-11T03:55:53.968422Z",
     "shell.execute_reply": "2025-06-11T03:55:53.967597Z",
     "shell.execute_reply.started": "2025-06-11T03:55:26.603682Z"
    },
    "trusted": true
   },
   "outputs": [],
   "source": [
    "\n",
    "import torch\n",
    "from transformers import VivitForVideoClassification, VivitImageProcessor\n",
    "import imageio\n",
    "import cv2\n",
    "import numpy as np\n",
    "import os\n",
    "import time"
   ]
  },
  {
   "cell_type": "code",
   "execution_count": null,
   "metadata": {
    "trusted": true
   },
   "outputs": [],
   "source": [
    "image_processor = VivitImageProcessor.from_pretrained(\"google/vivit-b-16x2-kinetics400\")\n",
    "model = VivitForVideoClassification.from_pretrained(\"google/vivit-b-16x2-kinetics400\")\n"
   ]
  },
  {
   "cell_type": "code",
   "execution_count": null,
   "metadata": {
    "execution": {
     "iopub.execute_input": "2025-06-11T03:56:14.556319Z",
     "iopub.status.busy": "2025-06-11T03:56:14.555414Z",
     "iopub.status.idle": "2025-06-11T03:56:14.667926Z",
     "shell.execute_reply": "2025-06-11T03:56:14.667329Z",
     "shell.execute_reply.started": "2025-06-11T03:56:14.556291Z"
    },
    "trusted": true
   },
   "outputs": [],
   "source": [
    "import  torchvision.transforms.v2 \n",
    "class ToPILImage:\n",
    "    def __init__(self):\n",
    "        self.to_pil = torchvision.transforms.ToPILImage()\n",
    "    def __call__(self, frames):\n",
    "        print(len(frames))\n",
    "        frames = [self.to_pil(frame) for frame in frames]\n",
    "        return frames\n",
    "class Resize:\n",
    "    def __init__(self, h,w):\n",
    "        self.h = h\n",
    "        self.w = w  \n",
    "        self.resize = torchvision.transforms.v2.Resize((h,w))\n",
    "    def __call__(self, frames):\n",
    "        frames = [self.resize(frame) for frame in frames]\n",
    "        return frames\n",
    "\n",
    "class ToTensor:\n",
    "    def __init__(self):\n",
    "        self.to_tensor = torchvision.transforms.v2.ToTensor()\n",
    "    def __call__(self, frames):\n",
    "        frames = [self.to_tensor(frame) for frame in frames]\n",
    "        return frames\n",
    "    \n",
    "class SampleFrames:\n",
    "    def __init__(self, num_frames=32):\n",
    "        self.num_frames = num_frames\n",
    "\n",
    "    def __call__(self, frames):\n",
    "        frames = torch.stack(frames)\n",
    "        if frames.shape[0] < self.num_frames:\n",
    "            # Repeat frames until the desired number is reached\n",
    "            repeated_frames = frames.repeat((self.num_frames // frames.shape[0], 1, 1, 1))\n",
    "            remainder = self.num_frames % frames.shape[0]\n",
    "            if remainder > 0:\n",
    "                repeated_frames = torch.cat((repeated_frames, frames[:remainder]), dim=0)\n",
    "            return repeated_frames\n",
    "        else:\n",
    "            # Use UniformTemporalSubsample to subsample frames\n",
    "            print(\"Subsampling frames\")\n",
    "            subsample = torchvision.transforms.v2.UniformTemporalSubsample(self.num_frames)\n",
    "            return subsample(frames.unsqueeze(0)).squeeze(0)\n",
    "        \n",
    "class Normalize:\n",
    "    def __init__(self, mean, std):\n",
    "                self.normalize = torchvision.transforms.v2.Normalize(mean=mean, std=std)\n",
    "    def __call__(self, frames):\n",
    "                frames = [self.normalize(frame) for frame in frames]\n",
    "                return frames"
   ]
  },
  {
   "cell_type": "code",
   "execution_count": null,
   "metadata": {
    "execution": {
     "iopub.execute_input": "2025-06-11T03:56:18.129409Z",
     "iopub.status.busy": "2025-06-11T03:56:18.128789Z",
     "iopub.status.idle": "2025-06-11T03:56:24.982085Z",
     "shell.execute_reply": "2025-06-11T03:56:24.981356Z",
     "shell.execute_reply.started": "2025-06-11T03:56:18.129384Z"
    },
    "trusted": true
   },
   "outputs": [],
   "source": [
    "from torchvision.datasets import DatasetFolder\n",
    "from torchvision.transforms.v2 import Compose\n",
    "\n",
    "# Define a custom loader for GIF files\n",
    "def gif_loader(path):\n",
    "    frames = []\n",
    "    gif_frames =imageio.mimread(path, memtest=False)\n",
    "    for frame in gif_frames:\n",
    "                        # Check if the frame has 4 channels (RGBA)\n",
    "                        if frame.shape[-1] == 4:\n",
    "                            # Convert RGBA to RGB\n",
    "                            frame = cv2.cvtColor(frame, cv2.COLOR_RGBA2RGB)\n",
    "                        frames.append(frame)\n",
    "    return frames#np.array(frames)#.transpose(0, 3, 1, 2)  # Convert to (frames, channels, height, width)\n",
    "# Define a transform to apply to each frame of the GIF\n",
    "transform = Compose([\n",
    "    \n",
    "    #\n",
    "    ToPILImage(),  # Convert frames to PIL images\n",
    "    Resize(224, 224),  # Resize frames to 224x224\n",
    "    ToTensor(),\n",
    "    SampleFrames(),\n",
    "    #ToTensor(),          # Convert frames to PyTorch tensors\n",
    "    \n",
    "])\n",
    "\n",
    "# Create a custom dataset using DatasetFolder\n",
    "train_dataset = DatasetFolder(\n",
    "    root=\"/kaggle/input/exercise-class/kinetics1/train\",\n",
    "    loader=gif_loader,\n",
    "    extensions=(\"gif\",),\n",
    "    transform=transform  # Use the existing transform variable\n",
    ")\n",
    "\n",
    "\n",
    "test_dataset = DatasetFolder(\n",
    "    root=\"/kaggle/input/exercise-class/kinetics1/test\",\n",
    "    loader=gif_loader,\n",
    "    extensions=(\"gif\",),\n",
    "    transform=transform  # Use the existing transform variable\n",
    ")\n",
    "\n",
    "print(f\"Custom dataset created with {len(train_dataset)} samples.\")\n",
    "print(f\"Test dataset created with {len(test_dataset)} samples.\")"
   ]
  },
  {
   "cell_type": "code",
   "execution_count": null,
   "metadata": {
    "execution": {
     "iopub.execute_input": "2025-06-11T03:58:46.786201Z",
     "iopub.status.busy": "2025-06-11T03:58:46.785881Z",
     "iopub.status.idle": "2025-06-11T03:58:46.791855Z",
     "shell.execute_reply": "2025-06-11T03:58:46.791069Z",
     "shell.execute_reply.started": "2025-06-11T03:58:46.786179Z"
    },
    "trusted": true
   },
   "outputs": [],
   "source": [
    "train_dataset.classes"
   ]
  },
  {
   "cell_type": "code",
   "execution_count": null,
   "metadata": {
    "execution": {
     "iopub.execute_input": "2025-06-11T03:56:43.144778Z",
     "iopub.status.busy": "2025-06-11T03:56:43.144045Z",
     "iopub.status.idle": "2025-06-11T03:56:43.388666Z",
     "shell.execute_reply": "2025-06-11T03:56:43.387500Z",
     "shell.execute_reply.started": "2025-06-11T03:56:43.144750Z"
    },
    "trusted": true
   },
   "outputs": [],
   "source": [
    "from torch.utils.data import DataLoader\n",
    "\n",
    "# Create a DataLoader for the custom_dataset\n",
    "batch_size = 2  # Define the batch size\n",
    "shuffle = True   # Shuffle the data\n",
    "num_workers = 1 # Number of subprocesses for data loading\n",
    "\n",
    "data_loader = DataLoader(train_dataset, batch_size=batch_size, shuffle=shuffle)\n",
    "\n",
    "# Example: Iterate through the DataLoader\n",
    "for batch_idx, (data, labels) in enumerate(data_loader):\n",
    "    print(f\"Batch {batch_idx}:\")\n",
    "    print(f\"Data shape: {len(data)} {data[0].shape}\")  # Print shape of the first item in the batch\n",
    "    print(f\"Labels: {labels}\")\n",
    "    break  # Process only the first batch for demonstration"
   ]
  },
  {
   "cell_type": "code",
   "execution_count": null,
   "metadata": {
    "vscode": {
     "languageId": "json"
    }
   },
   "outputs": [],
   "source": [
    "fsdp_config = {\n",
    "    \"compute_environment\": \"LOCAL_MACHINE\",\n",
    "    \"debug\": False,\n",
    "    \"distributed_type\": \"FSDP\",\n",
    "    \"downcast_bf16\": \"no\",\n",
    "    \"fsdp_config\": {\n",
    "        \"fsdp_auto_wrap_policy\": \"TRANSFORMER_BASED_WRAP\",\n",
    "        \"fsdp_backward_prefetch_policy\": \"BACKWARD_PRE\",\n",
    "        \"fsdp_forward_prefetch\": False,\n",
    "        \"fsdp_cpu_ram_efficient_loading\": True,\n",
    "        \"fsdp_offload_params\": False,\n",
    "        \"fsdp_sharding_strategy\": \"FULL_SHARD\",\n",
    "        \"fsdp_state_dict_type\": \"SHARDED_STATE_DICT\",\n",
    "        \"fsdp_sync_module_states\": True,\n",
    "        \"fsdp_transformer_layer_cls_to_wrap\": \"BertLayer\",\n",
    "        \"fsdp_use_orig_params\": True\n",
    "    },\n",
    "    \"machine_rank\": 0,\n",
    "    \"main_training_function\": \"main\",\n",
    "    \"mixed_precision\": \"bf16\",\n",
    "    \"num_machines\": 1,\n",
    "    \"num_processes\": 2,\n",
    "    \"rdzv_backend\": \"static\",\n",
    "    \"same_network\": True,\n",
    "    \"tpu_env\": [],\n",
    "    \"tpu_use_cluster\": False,\n",
    "    \"tpu_use_sudo\": False,\n",
    "    \"use_cpu\": False,\n",
    "}"
   ]
  },
  {
   "cell_type": "code",
   "execution_count": null,
   "metadata": {
    "trusted": true
   },
   "outputs": [],
   "source": [
    "from transformers import TrainingArguments, Trainer\n",
    "model_name ='vivit'\n",
    "new_model_name = f\"{model_name}-finetuned-workouts\"\n",
    "num_epochs = 10\n",
    "\n",
    "args = TrainingArguments(\n",
    "    model_name,\n",
    "    remove_unused_columns=False,\n",
    "    eval_strategy=\"epoch\",\n",
    "    save_strategy=\"epoch\",\n",
    "    learning_rate=5e-5,\n",
    "    per_device_train_batch_size=5, gradient_accumulation_steps=4,\n",
    "    per_device_eval_batch_size=5,\n",
    "    warmup_ratio=0.1,\n",
    "    logging_steps=10,\n",
    "    load_best_model_at_end=True,\n",
    "    metric_for_best_model=\"accuracy\",\n",
    "    push_to_hub=False,\n",
    "    max_steps=(len(train_dataset)// 5) * num_epochs,\n",
    "        report_to=\"none\"\n",
    "\n",
    ")"
   ]
  },
  {
   "cell_type": "code",
   "execution_count": null,
   "metadata": {
    "trusted": true
   },
   "outputs": [],
   "source": [
    "import evaluate\n",
    "\n",
    "metric = evaluate.load(\"accuracy\")"
   ]
  },
  {
   "cell_type": "code",
   "execution_count": null,
   "metadata": {
    "trusted": true
   },
   "outputs": [],
   "source": [
    "def compute_metrics(eval_pred):\n",
    "    \"\"\"Computes accuracy on a batch of predictions.\"\"\"\n",
    "    predictions = np.argmax(eval_pred.predictions, axis=1)\n",
    "    return metric.compute(predictions=predictions, references=eval_pred.label_ids)"
   ]
  },
  {
   "cell_type": "code",
   "execution_count": null,
   "metadata": {
    "trusted": true
   },
   "outputs": [],
   "source": [
    "def collate_fn(examples):\n",
    "    pixel_values = torch.stack([example[0] for example in examples])\n",
    "    labels = torch.tensor([example[1] for example in examples])\n",
    "    print(labels)\n",
    "    return {\"pixel_values\": pixel_values, \"labels\": labels}"
   ]
  },
  {
   "cell_type": "code",
   "execution_count": null,
   "metadata": {
    "trusted": true
   },
   "outputs": [],
   "source": [
    "from transformers import default_data_collator\n",
    "\n",
    "trainer = Trainer(\n",
    "    model,\n",
    "    args,\n",
    "    train_dataset=train_dataset,\n",
    "    eval_dataset=test_dataset,\n",
    "     tokenizer=image_processor,\n",
    "    compute_metrics=compute_metrics,\n",
    "    data_collator=collate_fn,\n",
    "    \n",
    " )"
   ]
  },
  {
   "cell_type": "code",
   "execution_count": null,
   "metadata": {
    "trusted": true
   },
   "outputs": [],
   "source": [
    "train_results = trainer.train()"
   ]
  }
 ],
 "metadata": {
  "kaggle": {
   "accelerator": "nvidiaTeslaT4",
   "dataSources": [
    {
     "datasetId": 7627535,
     "sourceId": 12114567,
     "sourceType": "datasetVersion"
    }
   ],
   "dockerImageVersionId": 31040,
   "isGpuEnabled": true,
   "isInternetEnabled": true,
   "language": "python",
   "sourceType": "notebook"
  },
  "kernelspec": {
   "display_name": "Python 3",
   "language": "python",
   "name": "python3"
  },
  "language_info": {
   "codemirror_mode": {
    "name": "ipython",
    "version": 3
   },
   "file_extension": ".py",
   "mimetype": "text/x-python",
   "name": "python",
   "nbconvert_exporter": "python",
   "pygments_lexer": "ipython3",
   "version": "3.11.11"
  }
 },
 "nbformat": 4,
 "nbformat_minor": 4
}
