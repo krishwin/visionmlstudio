{
 "cells": [
  {
   "cell_type": "code",
   "execution_count": 3,
   "id": "69e1df23",
   "metadata": {},
   "outputs": [],
   "source": [
    "from pyarrow import fs\n",
    "import os"
   ]
  },
  {
   "cell_type": "code",
   "execution_count": 4,
   "id": "358dfa04",
   "metadata": {},
   "outputs": [],
   "source": [
    "access_key = os.getenv('access_key')\n",
    "secret_key = os.getenv('secret_key')\n",
    "region = os.getenv('region')\n",
    "namespace = os.getenv('namespace')\n",
    "\n",
    "s3fs = fs.S3FileSystem(\n",
    "    access_key=access_key,\n",
    "    secret_key=secret_key,\n",
    "    region=region,\n",
    "    endpoint_override=f'https://{namespace}.compat.objectstorage.{region}.oraclecloud.com',\n",
    "    scheme='https'\n",
    ")"
   ]
  },
  {
   "cell_type": "code",
   "execution_count": 5,
   "id": "2052b887",
   "metadata": {},
   "outputs": [],
   "source": [
    "selector = fs.FileSelector('yt-vtt/converted_videos/',recursive=True)\n",
    "files_info = s3fs.get_file_info(selector)"
   ]
  }
 ],
 "metadata": {
  "kernelspec": {
   "display_name": "base",
   "language": "python",
   "name": "python3"
  },
  "language_info": {
   "codemirror_mode": {
    "name": "ipython",
    "version": 3
   },
   "file_extension": ".py",
   "mimetype": "text/x-python",
   "name": "python",
   "nbconvert_exporter": "python",
   "pygments_lexer": "ipython3",
   "version": "3.11.5"
  }
 },
 "nbformat": 4,
 "nbformat_minor": 5
}
